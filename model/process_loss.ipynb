{
 "cells": [
  {
   "cell_type": "code",
   "execution_count": 80,
   "metadata": {},
   "outputs": [],
   "source": [
    "from torch.nn import functional as F\n",
    "import torch\n",
    "import time\n",
    "import numpy as np"
   ]
  },
  {
   "cell_type": "markdown",
   "metadata": {},
   "source": [
    "Notebook that goes through the feature processing that is used to create the loss funciton"
   ]
  },
  {
   "cell_type": "code",
   "execution_count": 83,
   "metadata": {},
   "outputs": [],
   "source": [
    "def calc_var_loss(features):\n",
    "    epsilon = 1e-6\n",
    "    variances = []\n",
    "    for feature in features:\n",
    "        dim_std = torch.sqrt(torch.var(feature, dim=(0,1)) + epsilon)\n",
    "        var_loss = torch.mean(F.relu(1 - dim_std))\n",
    "        variances.append(var_loss)\n",
    "    return torch.tensor(variances).mean()\n",
    "\n",
    "def calc_inv_loss(features):\n",
    "    epsilon = 1e-6\n",
    "    inv_losss = []\n",
    "    for i in range(len(features)-1):\n",
    "        inv_loss = F.mse_loss(features[i], features[i+1])\n",
    "        inv_losss.append(inv_loss)\n",
    "    return torch.tensor(inv_losss).mean()\n",
    "\n",
    "def calc_cov_loss(features):\n",
    "    cov_losss = []\n",
    "    N1, N2, D = features[0].shape\n",
    "    for feature in features:\n",
    "        feature = feature.view(N1*N2, D)\n",
    "        norm_feat = feature - feature.mean(dim=0)\n",
    "        cov_feat = ((norm_feat.T @ norm_feat) / (N1 * N2 - 1)).square()\n",
    "        cov_loss = (cov_feat.sum() - cov_feat.diagonal().sum()) / D\n",
    "        cov_losss.append(cov_loss)\n",
    "    return torch.tensor(cov_losss).mean()\n",
    "    \n"
   ]
  },
  {
   "cell_type": "markdown",
   "metadata": {},
   "source": [
    "Test the time that it takes to run on a batch\n"
   ]
  },
  {
   "cell_type": "code",
   "execution_count": 84,
   "metadata": {},
   "outputs": [
    {
     "name": "stdout",
     "output_type": "stream",
     "text": [
      "var_loss: 0.004872322082519531, inv_loss: 0.0029745101928710938, conv_loss: 0.011105775833129883\n"
     ]
    }
   ],
   "source": [
    "features = [torch.rand(size=(8, 12, 512)) for _ in range(16)]\n",
    "\n",
    "t_0 = time.time()\n",
    "calc_var_loss(features)\n",
    "t_1 = time.time()\n",
    "calc_inv_loss(features)\n",
    "t_2 = time.time()\n",
    "calc_cov_loss(features) #Note: takes twice as long as var_loss\n",
    "t_3 = time.time()\n",
    "\n",
    "print(f\"var_loss: {t_1-t_0}, inv_loss: {t_2-t_1}, conv_loss: {t_3-t_2}\")"
   ]
  },
  {
   "cell_type": "code",
   "execution_count": 87,
   "metadata": {},
   "outputs": [
    {
     "name": "stdout",
     "output_type": "stream",
     "text": [
      "tensor(0.)\n",
      "tensor(0.)\n",
      "tensor(225.)\n"
     ]
    }
   ],
   "source": [
    "hand_test = torch.tensor([[[1, 2, 3], [4, 5, 6]], [[7, 8, 9], [10, 11, 12]]])\n",
    "features = [torch.tensor([[[1., 2., 3.], [4., 5., 6., ]], [[7., 8., 9.], [10., 11., 12.]]]) for _ in range(5)]\n",
    "print(calc_var_loss(features))\n",
    "print(calc_inv_loss(features))\n",
    "\n",
    "features = [torch.tensor([[[1., 2.], [4., 5. ]], [[7., 8.], [10., 11.]]]) for _ in range(5)]\n",
    "print(calc_cov_loss(features))\n"
   ]
  }
 ],
 "metadata": {
  "interpreter": {
   "hash": "39098cfb8b1b9d1c942ff55c14d368280e007cb386d39d1ee4ff35aa810352ad"
  },
  "kernelspec": {
   "display_name": "Python 3.6.13 ('hcrn_videoqa')",
   "language": "python",
   "name": "python3"
  },
  "language_info": {
   "codemirror_mode": {
    "name": "ipython",
    "version": 3
   },
   "file_extension": ".py",
   "mimetype": "text/x-python",
   "name": "python",
   "nbconvert_exporter": "python",
   "pygments_lexer": "ipython3",
   "version": "3.6.13"
  },
  "orig_nbformat": 4
 },
 "nbformat": 4,
 "nbformat_minor": 2
}
